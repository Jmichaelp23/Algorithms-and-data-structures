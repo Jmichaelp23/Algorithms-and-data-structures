{
 "cells": [
  {
   "cell_type": "code",
   "execution_count": 1,
   "metadata": {},
   "outputs": [],
   "source": [
    "import time\n",
    "import random\n",
    "\n",
    "# Set seed.\n",
    "random.seed(a=100)\n",
    "\n",
    "# Create our default list.\n",
    "short_list = list(random.sample(range(1000000), 10))\n",
    "long_list = list(random.sample(range(10000000), 10000))"
   ]
  },
  {
   "cell_type": "code",
   "execution_count": 2,
   "metadata": {},
   "outputs": [],
   "source": [
    "def insert_sort(input_list):\n",
    "    # Copy the input to a new list so we don't modify the original.\n",
    "    new_list = input_list\n",
    "    \n",
    "    # Iterate through the list.\n",
    "    for i in range(len(new_list)):\n",
    "        # Assign place to a new variable.\n",
    "        j = i\n",
    "        \n",
    "        # Move through the list as long as the previous position is larger\n",
    "        # than the current element of list.\n",
    "        while j > 0 and new_list[j - 1] > new_list[j]:\n",
    "            \n",
    "            # Swap places.\n",
    "            new_list[j - 1], new_list[j] = new_list[j], new_list[j - 1]\n",
    "            \n",
    "            # Reduce j by one.\n",
    "            j = j - 1\n",
    "    return new_list"
   ]
  },
  {
   "cell_type": "code",
   "execution_count": 3,
   "metadata": {},
   "outputs": [
    {
     "name": "stdout",
     "output_type": "stream",
     "text": [
      "--- 0.0 seconds ---\n",
      "[152745, 183236, 366725, 412125, 477025, 481850, 739784, 767514, 808225, 997948]\n"
     ]
    }
   ],
   "source": [
    "# Start the timer.\n",
    "start_time = time.time()\n",
    "\n",
    "# Run our insertion sort.\n",
    "insert_sort(short_list)\n",
    "\n",
    "# Print time to show runtime.\n",
    "print(\"--- %s seconds ---\" % (time.time() - start_time))\n",
    "print(insert_sort(short_list))"
   ]
  },
  {
   "cell_type": "code",
   "execution_count": 4,
   "metadata": {},
   "outputs": [
    {
     "name": "stdout",
     "output_type": "stream",
     "text": [
      "--- 16.945215463638306 seconds ---\n"
     ]
    }
   ],
   "source": [
    "# Test on the long list.\n",
    "start_time = time.time()\n",
    "\n",
    "insert_sort(long_list)\n",
    "\n",
    "print(\"--- %s seconds ---\" % (time.time() - start_time))"
   ]
  },
  {
   "cell_type": "code",
   "execution_count": 5,
   "metadata": {},
   "outputs": [],
   "source": [
    "# Our merge function takes two ordered lists and merges them together into one ordered list\n",
    "\n",
    "def merge(a, b):\n",
    "    # Check for empty list.\n",
    "    if len(a) == 0 or len(b) == 0:\n",
    "        return a or b\n",
    "    \n",
    "    # Start with an empty result.\n",
    "    result = []\n",
    "    # Track two indexes.\n",
    "    i, j = 0, 0\n",
    "    # Set a while condition to ensure we iterate only for the length of our two lists.\n",
    "    while (len(result) < len(a) + len(b)):\n",
    "        # If a's next element is lower append that element to our result.\n",
    "        if a[i] < b[j]:\n",
    "            result.append(a[i])\n",
    "            i += 1\n",
    "        # Otherwise append b's next element.\n",
    "        else:\n",
    "            result.append(b[j])\n",
    "            j += 1\n",
    "        # When one list is empty just append everything from the other list and stop.\n",
    "        if i == len(a) or j == len(b):\n",
    "            result.extend(a[i:] or b[j:])\n",
    "            break \n",
    "\n",
    "    return result\n",
    "\n",
    "\n",
    "def merge_sort(lst):\n",
    "    if len(lst) < 2:\n",
    "        return lst\n",
    "\n",
    "    mid = int(len(lst) / 2)\n",
    "    a = merge_sort(lst[:mid])\n",
    "    b = merge_sort(lst[mid:])\n",
    "\n",
    "    return merge(a, b)"
   ]
  },
  {
   "cell_type": "code",
   "execution_count": 6,
   "metadata": {},
   "outputs": [
    {
     "name": "stdout",
     "output_type": "stream",
     "text": [
      "--- 0.0 seconds ---\n",
      "[152745, 183236, 366725, 412125, 477025, 481850, 739784, 767514, 808225, 997948]\n"
     ]
    }
   ],
   "source": [
    "# Test on short list.\n",
    "# Start timer.\n",
    "start_time = time.time()\n",
    "\n",
    "# Run our insertion sort.\n",
    "merge_sort(short_list)\n",
    "\n",
    "# Print time to show runtime.\n",
    "print(\"--- %s seconds ---\" % (time.time() - start_time))\n",
    "print(insert_sort(short_list))"
   ]
  },
  {
   "cell_type": "code",
   "execution_count": 7,
   "metadata": {},
   "outputs": [
    {
     "name": "stdout",
     "output_type": "stream",
     "text": [
      "--- 0.09992051124572754 seconds ---\n"
     ]
    }
   ],
   "source": [
    "# Test on long list.\n",
    "start_time = time.time()\n",
    "\n",
    "merge_sort(long_list)\n",
    "\n",
    "print(\"--- %s seconds ---\" % (time.time() - start_time))"
   ]
  },
  {
   "cell_type": "code",
   "execution_count": 8,
   "metadata": {},
   "outputs": [
    {
     "name": "stdout",
     "output_type": "stream",
     "text": [
      "--- 0.0 seconds ---\n"
     ]
    }
   ],
   "source": [
    "# Start Timer\n",
    "start_time = time.time()\n",
    "\n",
    "# Sort the default list. Note that .sort() will sort in place, which would alter default_list.\n",
    "sorted(long_list)\n",
    "\n",
    "# Print time to show runtime\n",
    "print(\"--- %s seconds ---\" % (time.time() - start_time))"
   ]
  },
  {
   "cell_type": "markdown",
   "metadata": {},
   "source": [
    "## __Drill__"
   ]
  },
  {
   "cell_type": "markdown",
   "metadata": {},
   "source": [
    "Comparing sorting methods"
   ]
  },
  {
   "cell_type": "markdown",
   "metadata": {},
   "source": [
    "## shellSort"
   ]
  },
  {
   "cell_type": "markdown",
   "metadata": {},
   "source": [
    "Shellsort was invented by Donald Shell in 1959. It improves upon insertion sort by moving out of order elements more than one position at a time. The concept behind Shellsort is that insertion sort performs in {\\displaystyle O(kn)} O(kn) time, where k is the greatest distance between two out-of-place elements. This means that generally, they perform in O(n2), but for data that is mostly sorted, with only a few elements out of place, they perform faster. So, by first sorting elements far away, and progressively shrinking the gap between the elements to sort, the final sort computes much faster. One implementation can be described as arranging the data sequence in a two-dimensional array and then sorting the columns of the array using insertion sort.\n",
    "\n",
    "The worst-case time complexity of Shellsort is an open problem and depends on the gap sequence used, with known complexities ranging from O(n2) to O(n4/3) and Θ(n log2 n). This, combined with the fact that Shellsort is in-place, only needs a relatively small amount of code, and does not require use of the call stack, makes it is useful in situations where memory is at a premium, such as in embedded systems and operating system kernels."
   ]
  },
  {
   "cell_type": "code",
   "execution_count": 9,
   "metadata": {},
   "outputs": [
    {
     "name": "stdout",
     "output_type": "stream",
     "text": [
      "[54, 26, 93, 17, 77, 31, 44, 55, 20]\n",
      "--- 0.0 seconds ---\n"
     ]
    }
   ],
   "source": [
    "# https://interactivepython.org/runestone/static/pythonds/SortSearch/TheShellSort.html\n",
    "\n",
    "import time\n",
    "import random\n",
    "\n",
    "def shellSort(alist):\n",
    "    sublistcount = len(alist)//2\n",
    "    while sublistcount > 0:\n",
    "\n",
    "      for startposition in range(sublistcount):\n",
    "        gapInsertionSort(alist,startposition,sublistcount)\n",
    "\n",
    "#      print(\"After increments of size\",sublistcount,\n",
    " #                                  \"The list is\",alist)\n",
    "\n",
    "      sublistcount = sublistcount // 2\n",
    "\n",
    "def gapInsertionSort(alist,start,gap):\n",
    "    for i in range(start+gap,len(alist),gap):\n",
    "\n",
    "        currentvalue = alist[i]\n",
    "        position = i\n",
    "\n",
    "        while position>=gap and alist[position-gap]>currentvalue:\n",
    "            alist[position]=alist[position-gap]\n",
    "            position = position-gap\n",
    "\n",
    "        alist[position]=currentvalue\n",
    "\n",
    "\n",
    "short_list = [54,26,93,17,77,31,44,55,20]\n",
    "print(short_list)\n",
    "\n",
    "start_time = time.time()\n",
    "shellSort(short_list)\n",
    "\n",
    "print(\"--- %s seconds ---\" % (time.time() - start_time))"
   ]
  },
  {
   "cell_type": "code",
   "execution_count": 10,
   "metadata": {},
   "outputs": [
    {
     "name": "stdout",
     "output_type": "stream",
     "text": [
      "--- 0.14161968231201172 seconds ---\n"
     ]
    }
   ],
   "source": [
    "long_list = list(random.sample(range(1000000), 10000))\n",
    "\n",
    "start_time = time.time()\n",
    "shellSort(long_list)\n",
    "print(\"--- %s seconds ---\" % (time.time() - start_time))"
   ]
  },
  {
   "cell_type": "code",
   "execution_count": 11,
   "metadata": {},
   "outputs": [
    {
     "name": "stdout",
     "output_type": "stream",
     "text": [
      "--- 2.0765769481658936 seconds ---\n"
     ]
    }
   ],
   "source": [
    "long_list = list(random.sample(range(1000000), 100000))\n",
    "\n",
    "start_time = time.time()\n",
    "shellSort(long_list)\n",
    "print(\"--- %s seconds ---\" % (time.time() - start_time))"
   ]
  },
  {
   "cell_type": "code",
   "execution_count": 12,
   "metadata": {},
   "outputs": [
    {
     "name": "stdout",
     "output_type": "stream",
     "text": [
      "Merge sort: --- 23.1835458278656 seconds ---\n",
      "Sorted: --- 23.972042560577393 seconds ---\n",
      "shellSort: --- 54.96932053565979 seconds ---\n"
     ]
    }
   ],
   "source": [
    "# at 1000000 by 10000 range for a very long list \n",
    "\n",
    "long_list = list(random.sample(range(1000000), 1000000))\n",
    "start_time = time.time()\n",
    "\n",
    "merge_sort(long_list)\n",
    "print(\"Merge sort: \"\"--- %s seconds ---\" % (time.time() - start_time))\n",
    "\n",
    "sorted(long_list)\n",
    "print(\"Sorted: \"\"--- %s seconds ---\" % (time.time() - start_time))\n",
    "\n",
    "shellSort(long_list)\n",
    "print(\"shellSort: \"\"--- %s seconds ---\" % (time.time() - start_time))"
   ]
  },
  {
   "cell_type": "markdown",
   "metadata": {},
   "source": [
    "The merge and sorted methods are comporable is completion time. Both are twice as fast as the shellSort."
   ]
  },
  {
   "cell_type": "markdown",
   "metadata": {},
   "source": [
    "The shell sort only makes the array into total number of gapes that is divide the array to two and then find the smallest value and so on until the whole array is sorted (https://www.quora.com/How-do-shell-sort-algorithms-work). By increase the sample size it increases the amount of time it takes shellSort to break down and divide the arrary into smaller units. The Merge and Sorted use a very similar method, which is evident in the time results."
   ]
  },
  {
   "cell_type": "code",
   "execution_count": null,
   "metadata": {},
   "outputs": [],
   "source": []
  }
 ],
 "metadata": {
  "kernelspec": {
   "display_name": "Python 3",
   "language": "python",
   "name": "python3"
  },
  "language_info": {
   "codemirror_mode": {
    "name": "ipython",
    "version": 3
   },
   "file_extension": ".py",
   "mimetype": "text/x-python",
   "name": "python",
   "nbconvert_exporter": "python",
   "pygments_lexer": "ipython3",
   "version": "3.7.3"
  }
 },
 "nbformat": 4,
 "nbformat_minor": 2
}
